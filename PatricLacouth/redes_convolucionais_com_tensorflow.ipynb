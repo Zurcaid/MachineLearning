{
  "nbformat": 4,
  "nbformat_minor": 0,
  "metadata": {
    "colab": {
      "provenance": [],
      "include_colab_link": true
    },
    "kernelspec": {
      "name": "python3",
      "display_name": "Python 3"
    },
    "language_info": {
      "name": "python"
    }
  },
  "cells": [
    {
      "cell_type": "markdown",
      "metadata": {
        "id": "view-in-github",
        "colab_type": "text"
      },
      "source": [
        "<a href=\"https://colab.research.google.com/github/Zurcaid/MachineLearning/blob/main/PatricLacouth/redes_convolucionais_com_tensorflow.ipynb\" target=\"_parent\"><img src=\"https://colab.research.google.com/assets/colab-badge.svg\" alt=\"Open In Colab\"/></a>"
      ]
    },
    {
      "cell_type": "markdown",
      "source": [
        "# Desafio\n",
        "\n",
        "Vamos tentar criar em tempo real, um sistema que identifica objetos em tempo real.\n",
        "\n",
        "**Etapas**\n",
        "\n",
        "0. **FAÇA UMA CÓPIA DO NOTEBOOK PARA SUA CONTA**\n",
        "1. Capturar imagens de pelo menos dois objetos utilizando a webcam.\n",
        "2. Definir um modelo com camadas convolucionais usando TensorFlow\n",
        "3. Treinar o modelo e verificar a acurácia.\n",
        "4. Testar o modelo treinado."
      ],
      "metadata": {
        "id": "4lUDa-o7JFPC"
      }
    },
    {
      "cell_type": "markdown",
      "source": [
        "# Execute a célula abaixo para definir a função que captura imagens"
      ],
      "metadata": {
        "id": "mcUoNhC6KOJ0"
      }
    },
    {
      "cell_type": "code",
      "source": [
        "from IPython.display import display, Javascript, clear_output, Image\n",
        "from google.colab.output import eval_js\n",
        "from base64 import b64decode\n",
        "from pathlib import Path\n",
        "\n",
        "def take_photo(filename='photo.jpg', quality=0.4, width=320, height=240):\n",
        "  js = Javascript('''\n",
        "    async function takePhoto(quality, width, height) {\n",
        "      const div = document.createElement('div');\n",
        "      const capture = document.createElement('button');\n",
        "      capture.textContent = 'Capturar';\n",
        "      div.appendChild(capture);\n",
        "\n",
        "      const video = document.createElement('video');\n",
        "      video.style.display = 'block';\n",
        "      const stream = await navigator.mediaDevices.getUserMedia({video: true});\n",
        "\n",
        "      document.body.appendChild(div);\n",
        "      div.appendChild(video);\n",
        "      video.srcObject = stream;\n",
        "      await video.play();\n",
        "\n",
        "      // Resize the output to fit the video element.\n",
        "      google.colab.output.setIframeHeight(document.documentElement.scrollHeight, true);\n",
        "\n",
        "      // Wait for Capture to be clicked.\n",
        "      await new Promise((resolve) => capture.onclick = resolve);\n",
        "\n",
        "      const canvas = document.createElement('canvas');\n",
        "      canvas.width = width; // Set desired width\n",
        "      canvas.height = height; // Set desired height\n",
        "      const ctx = canvas.getContext('2d');\n",
        "      ctx.drawImage(video, 0, 0, width, height); // Resize the video feed to canvas\n",
        "      stream.getVideoTracks()[0].stop();\n",
        "      div.remove();\n",
        "      return canvas.toDataURL('image/jpeg', quality);\n",
        "    }\n",
        "  ''')\n",
        "  display(js)\n",
        "  data = eval_js(f'takePhoto({quality}, {width}, {height})')\n",
        "  binary = b64decode(data.split(',')[1])\n",
        "  with open(filename, 'wb') as f:\n",
        "    f.write(binary)\n",
        "  return filename\n"
      ],
      "metadata": {
        "id": "kMfVbU430lKI"
      },
      "execution_count": null,
      "outputs": []
    },
    {
      "cell_type": "markdown",
      "source": [
        "# O código abaixo permite coletar as imagens para o treinamento.\n",
        "## Colete o máximo que puder para cada classe, pelo menos 5 imagens de cada"
      ],
      "metadata": {
        "id": "jIr-uOaMKTpt"
      }
    },
    {
      "cell_type": "code",
      "source": [
        "label = input('Informe a classe da imagem: ')\n",
        "label = label\n",
        "Path('dados/'+label).mkdir(parents=True, exist_ok=True)\n",
        "contador = 0\n",
        "continuar = 's'\n",
        "while continuar == 's':\n",
        "  contador += 1\n",
        "  filename = take_photo(filename = 'dados/'+label+'/'+label+'_'+str(contador)+'.jpg', quality=0.5, width=96,height=96)\n",
        "  print('Imagem salva em {}'.format(filename))\n",
        "  display(Image(filename))\n",
        "  continuar = input('Deseja continuar (s/n): ').lower()\n",
        "  clear_output()\n"
      ],
      "metadata": {
        "id": "Q6W1_zIhCE9c"
      },
      "execution_count": null,
      "outputs": []
    },
    {
      "cell_type": "code",
      "source": [
        "import matplotlib.pyplot as plt\n",
        "import numpy as np\n",
        "import os\n",
        "import PIL\n",
        "import tensorflow as tf\n",
        "\n",
        "from tensorflow import keras\n",
        "from tensorflow.keras import layers\n",
        "from tensorflow.keras.models import Sequential\n",
        "\n",
        "batch_size = 1\n",
        "img_height = 96\n",
        "img_width = 96\n",
        "\n"
      ],
      "metadata": {
        "id": "-H75-JE1IFlB"
      },
      "execution_count": null,
      "outputs": []
    },
    {
      "cell_type": "code",
      "source": [
        "#divisão do conjunto de treinamento\n",
        "train_ds = tf.keras.utils.image_dataset_from_directory(\n",
        "  'dados',\n",
        "  validation_split=0.2,\n",
        "  subset=\"training\",\n",
        "  seed=123,\n",
        "  image_size=(img_height, img_width),\n",
        "  batch_size=batch_size)"
      ],
      "metadata": {
        "id": "fNuAardlKGld"
      },
      "execution_count": null,
      "outputs": []
    },
    {
      "cell_type": "code",
      "source": [
        "#divisão do conjunto de validação\n",
        "val_ds = tf.keras.utils.image_dataset_from_directory(\n",
        "  'dados',\n",
        "  validation_split=0.2,\n",
        "  subset=\"validation\",\n",
        "  seed=123,\n",
        "  image_size=(img_height, img_width),\n",
        "  batch_size=batch_size)\n"
      ],
      "metadata": {
        "id": "HPn9IFSFKWNQ"
      },
      "execution_count": null,
      "outputs": []
    },
    {
      "cell_type": "code",
      "source": [
        "class_names = train_ds.class_names\n",
        "print(class_names)"
      ],
      "metadata": {
        "id": "LL7PX0KCKdvK"
      },
      "execution_count": null,
      "outputs": []
    },
    {
      "cell_type": "code",
      "source": [
        "#definição do modelo\n",
        "\n",
        "num_classes = len(class_names)\n",
        "\n",
        "model = Sequential([\n",
        "  layers.Rescaling(1./255, input_shape=(img_height, img_width, 3)),\n",
        "  layers.RandomFlip(), #data augmentation\n",
        "  layers.RandomRotation(factor=0.5), #data augmentation\n",
        "  layers.Conv2D(16, 3, padding='same', activation='relu'), #camanda conv1\n",
        "  layers.MaxPooling2D(), #redução de dimensionalidade\n",
        "  layers.Conv2D(32, 3, padding='same', activation='relu'),\n",
        "  layers.MaxPooling2D(),\n",
        "  layers.Conv2D(64, 3, padding='same', activation='relu'),\n",
        "  layers.MaxPooling2D(),\n",
        "  layers.Dropout(0.2),\n",
        "  layers.Flatten(),\n",
        "  layers.Dense(128, activation='relu'),\n",
        "  layers.Dense(num_classes, activation='softmax')\n",
        "])\n",
        "\n",
        "model.compile(optimizer='adam',\n",
        "              loss=tf.keras.losses.SparseCategoricalCrossentropy(from_logits=True),\n",
        "              metrics=['accuracy'])"
      ],
      "metadata": {
        "id": "mU-B_m7SKlKf"
      },
      "execution_count": null,
      "outputs": []
    },
    {
      "cell_type": "code",
      "source": [
        "#treinamento do modelo\n",
        "epochs = 100\n",
        "history = model.fit(\n",
        "  train_ds,\n",
        "  validation_data=val_ds,\n",
        "  epochs=epochs\n",
        ")"
      ],
      "metadata": {
        "id": "QPqokNR0K8ck"
      },
      "execution_count": null,
      "outputs": []
    },
    {
      "cell_type": "code",
      "source": [
        "acc = history.history['accuracy']\n",
        "val_acc = history.history['val_accuracy']\n",
        "\n",
        "loss = history.history['loss']\n",
        "val_loss = history.history['val_loss']\n",
        "\n",
        "epochs_range = range(epochs)\n",
        "\n",
        "plt.figure(figsize=(8, 8))\n",
        "plt.plot(epochs_range, acc, label='Acurácia treinamento')\n",
        "plt.plot(epochs_range, val_acc, label='Acurácia validação')\n",
        "plt.legend(loc='upper right')\n",
        "plt.title('Acurácia')\n",
        "plt.grid()\n",
        "plt.show()"
      ],
      "metadata": {
        "id": "dqZ0bQLWMcaC"
      },
      "execution_count": null,
      "outputs": []
    },
    {
      "cell_type": "markdown",
      "source": [
        "# Código para testar com uma nova imagem"
      ],
      "metadata": {
        "id": "_fyU7lN3Lq4u"
      }
    },
    {
      "cell_type": "code",
      "source": [
        "Path('teste').mkdir(parents=True, exist_ok=True)\n",
        "filename = take_photo(filename='teste/teste.jpg', quality=0.4)\n",
        "display(Image(filename))\n",
        "\n",
        "img = tf.keras.utils.load_img(\n",
        "    filename, target_size=(img_height, img_width)\n",
        ")\n",
        "img_array = tf.keras.utils.img_to_array(img)\n",
        "img_array = tf.expand_dims(img_array, 0)\n",
        "\n",
        "predictions = model.predict(img_array)\n",
        "score = tf.nn.softmax(predictions[0])\n",
        "\n",
        "print(\n",
        "    \"Essa imagem provavelmente é {} com {:.2f} porcento de confiança.\"\n",
        "    .format(class_names[np.argmax(score)], 100 * np.max(score))\n",
        ")"
      ],
      "metadata": {
        "id": "UPP_cYGGO7PY"
      },
      "execution_count": null,
      "outputs": []
    },
    {
      "cell_type": "markdown",
      "source": [
        "# **Baixar as imagens para criar um modelo do EDGE IMPULSE**\n",
        "\n",
        "[Edge Impulse](https://edgeimpulse.com/)"
      ],
      "metadata": {
        "id": "-aBhUEe1L-DP"
      }
    },
    {
      "cell_type": "code",
      "source": [
        "!zip -r /content/dados.zip /content/dados"
      ],
      "metadata": {
        "id": "8hIdEH6DbJO5"
      },
      "execution_count": null,
      "outputs": []
    },
    {
      "cell_type": "code",
      "source": [
        "from google.colab import files\n",
        "files.download(\"/content/dados.zip\")"
      ],
      "metadata": {
        "id": "mk_-Z_FRbLSL"
      },
      "execution_count": null,
      "outputs": []
    }
  ]
}